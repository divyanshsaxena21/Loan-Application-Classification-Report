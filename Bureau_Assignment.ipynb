{
  "nbformat": 4,
  "nbformat_minor": 0,
  "metadata": {
    "colab": {
      "provenance": [],
      "authorship_tag": "ABX9TyNorJdwzQHlcr2h4Gnxz0VT",
      "include_colab_link": true
    },
    "kernelspec": {
      "name": "python3",
      "display_name": "Python 3"
    },
    "language_info": {
      "name": "python"
    }
  },
  "cells": [
    {
      "cell_type": "markdown",
      "metadata": {
        "id": "view-in-github",
        "colab_type": "text"
      },
      "source": [
        "<a href=\"https://colab.research.google.com/github/divyanshsaxena21/Bureau_Assignment/blob/main/Bureau_Assignment.ipynb\" target=\"_parent\"><img src=\"https://colab.research.google.com/assets/colab-badge.svg\" alt=\"Open In Colab\"/></a>"
      ]
    },
    {
      "cell_type": "code",
      "execution_count": 50,
      "metadata": {
        "id": "TQChlFWCGrlE"
      },
      "outputs": [],
      "source": [
        "import pandas as pd\n",
        "import numpy as np\n",
        "from sklearn.model_selection import train_test_split\n",
        "from sklearn.preprocessing import LabelEncoder, StandardScaler\n",
        "from sklearn.impute import SimpleImputer\n",
        "from sklearn.ensemble import RandomForestClassifier\n",
        "from sklearn.metrics import classification_report, accuracy_score\n",
        "import matplotlib.pyplot as plt"
      ]
    },
    {
      "cell_type": "code",
      "source": [
        "# Load data\n",
        "train_data = pd.read_csv('Assignment_Train.csv')\n",
        "test_data = pd.read_csv('Assignment_Test.csv')"
      ],
      "metadata": {
        "id": "qd5QT_c7HMuq"
      },
      "execution_count": 52,
      "outputs": []
    },
    {
      "cell_type": "code",
      "source": [
        "train_data.head(1)"
      ],
      "metadata": {
        "colab": {
          "base_uri": "https://localhost:8080/",
          "height": 182
        },
        "id": "8-U-jiI2H8La",
        "outputId": "04e4be0e-fe25-4499-d6e1-8b5a88b9be0b"
      },
      "execution_count": 53,
      "outputs": [
        {
          "output_type": "execute_result",
          "data": {
            "text/plain": [
              "   DEALER ID APPLICATION LOGIN DATE HDB BRANCH NAME HDB BRANCH STATE  \\\n",
              "0     106989             07/20/2022        DELHI-SF            DELHI   \n",
              "\n",
              "  FIRST NAME MIDDLE NAME LAST NAME      mobile AADHAR VERIFIED Cibil Score  \\\n",
              "0      SUNIL         NaN   CHANDER  9210574080              NO         726   \n",
              "\n",
              "   ...  Phone Social Premium.shaadi Phone Social Premium.skype  \\\n",
              "0  ...                          0.0                        0.0   \n",
              "\n",
              "   Phone Social Premium.toi Phone Social Premium.whatsapp  \\\n",
              "0                       1.0                           NaN   \n",
              "\n",
              "   Phone Social Premium.yatra  Phone Social Premium.zoho phone_digitalage  \\\n",
              "0                         NaN                        0.0           5324.0   \n",
              "\n",
              "  phone_nameMatchScore phone_phoneFootprintStrengthOverall Application Status  \n",
              "0            67.222222                                High           APPROVED  \n",
              "\n",
              "[1 rows x 55 columns]"
            ],
            "text/html": [
              "\n",
              "  <div id=\"df-5cb73f62-d400-4479-a425-504c1022169a\" class=\"colab-df-container\">\n",
              "    <div>\n",
              "<style scoped>\n",
              "    .dataframe tbody tr th:only-of-type {\n",
              "        vertical-align: middle;\n",
              "    }\n",
              "\n",
              "    .dataframe tbody tr th {\n",
              "        vertical-align: top;\n",
              "    }\n",
              "\n",
              "    .dataframe thead th {\n",
              "        text-align: right;\n",
              "    }\n",
              "</style>\n",
              "<table border=\"1\" class=\"dataframe\">\n",
              "  <thead>\n",
              "    <tr style=\"text-align: right;\">\n",
              "      <th></th>\n",
              "      <th>DEALER ID</th>\n",
              "      <th>APPLICATION LOGIN DATE</th>\n",
              "      <th>HDB BRANCH NAME</th>\n",
              "      <th>HDB BRANCH STATE</th>\n",
              "      <th>FIRST NAME</th>\n",
              "      <th>MIDDLE NAME</th>\n",
              "      <th>LAST NAME</th>\n",
              "      <th>mobile</th>\n",
              "      <th>AADHAR VERIFIED</th>\n",
              "      <th>Cibil Score</th>\n",
              "      <th>...</th>\n",
              "      <th>Phone Social Premium.shaadi</th>\n",
              "      <th>Phone Social Premium.skype</th>\n",
              "      <th>Phone Social Premium.toi</th>\n",
              "      <th>Phone Social Premium.whatsapp</th>\n",
              "      <th>Phone Social Premium.yatra</th>\n",
              "      <th>Phone Social Premium.zoho</th>\n",
              "      <th>phone_digitalage</th>\n",
              "      <th>phone_nameMatchScore</th>\n",
              "      <th>phone_phoneFootprintStrengthOverall</th>\n",
              "      <th>Application Status</th>\n",
              "    </tr>\n",
              "  </thead>\n",
              "  <tbody>\n",
              "    <tr>\n",
              "      <th>0</th>\n",
              "      <td>106989</td>\n",
              "      <td>07/20/2022</td>\n",
              "      <td>DELHI-SF</td>\n",
              "      <td>DELHI</td>\n",
              "      <td>SUNIL</td>\n",
              "      <td>NaN</td>\n",
              "      <td>CHANDER</td>\n",
              "      <td>9210574080</td>\n",
              "      <td>NO</td>\n",
              "      <td>726</td>\n",
              "      <td>...</td>\n",
              "      <td>0.0</td>\n",
              "      <td>0.0</td>\n",
              "      <td>1.0</td>\n",
              "      <td>NaN</td>\n",
              "      <td>NaN</td>\n",
              "      <td>0.0</td>\n",
              "      <td>5324.0</td>\n",
              "      <td>67.222222</td>\n",
              "      <td>High</td>\n",
              "      <td>APPROVED</td>\n",
              "    </tr>\n",
              "  </tbody>\n",
              "</table>\n",
              "<p>1 rows × 55 columns</p>\n",
              "</div>\n",
              "    <div class=\"colab-df-buttons\">\n",
              "\n",
              "  <div class=\"colab-df-container\">\n",
              "    <button class=\"colab-df-convert\" onclick=\"convertToInteractive('df-5cb73f62-d400-4479-a425-504c1022169a')\"\n",
              "            title=\"Convert this dataframe to an interactive table.\"\n",
              "            style=\"display:none;\">\n",
              "\n",
              "  <svg xmlns=\"http://www.w3.org/2000/svg\" height=\"24px\" viewBox=\"0 -960 960 960\">\n",
              "    <path d=\"M120-120v-720h720v720H120Zm60-500h600v-160H180v160Zm220 220h160v-160H400v160Zm0 220h160v-160H400v160ZM180-400h160v-160H180v160Zm440 0h160v-160H620v160ZM180-180h160v-160H180v160Zm440 0h160v-160H620v160Z\"/>\n",
              "  </svg>\n",
              "    </button>\n",
              "\n",
              "  <style>\n",
              "    .colab-df-container {\n",
              "      display:flex;\n",
              "      gap: 12px;\n",
              "    }\n",
              "\n",
              "    .colab-df-convert {\n",
              "      background-color: #E8F0FE;\n",
              "      border: none;\n",
              "      border-radius: 50%;\n",
              "      cursor: pointer;\n",
              "      display: none;\n",
              "      fill: #1967D2;\n",
              "      height: 32px;\n",
              "      padding: 0 0 0 0;\n",
              "      width: 32px;\n",
              "    }\n",
              "\n",
              "    .colab-df-convert:hover {\n",
              "      background-color: #E2EBFA;\n",
              "      box-shadow: 0px 1px 2px rgba(60, 64, 67, 0.3), 0px 1px 3px 1px rgba(60, 64, 67, 0.15);\n",
              "      fill: #174EA6;\n",
              "    }\n",
              "\n",
              "    .colab-df-buttons div {\n",
              "      margin-bottom: 4px;\n",
              "    }\n",
              "\n",
              "    [theme=dark] .colab-df-convert {\n",
              "      background-color: #3B4455;\n",
              "      fill: #D2E3FC;\n",
              "    }\n",
              "\n",
              "    [theme=dark] .colab-df-convert:hover {\n",
              "      background-color: #434B5C;\n",
              "      box-shadow: 0px 1px 3px 1px rgba(0, 0, 0, 0.15);\n",
              "      filter: drop-shadow(0px 1px 2px rgba(0, 0, 0, 0.3));\n",
              "      fill: #FFFFFF;\n",
              "    }\n",
              "  </style>\n",
              "\n",
              "    <script>\n",
              "      const buttonEl =\n",
              "        document.querySelector('#df-5cb73f62-d400-4479-a425-504c1022169a button.colab-df-convert');\n",
              "      buttonEl.style.display =\n",
              "        google.colab.kernel.accessAllowed ? 'block' : 'none';\n",
              "\n",
              "      async function convertToInteractive(key) {\n",
              "        const element = document.querySelector('#df-5cb73f62-d400-4479-a425-504c1022169a');\n",
              "        const dataTable =\n",
              "          await google.colab.kernel.invokeFunction('convertToInteractive',\n",
              "                                                    [key], {});\n",
              "        if (!dataTable) return;\n",
              "\n",
              "        const docLinkHtml = 'Like what you see? Visit the ' +\n",
              "          '<a target=\"_blank\" href=https://colab.research.google.com/notebooks/data_table.ipynb>data table notebook</a>'\n",
              "          + ' to learn more about interactive tables.';\n",
              "        element.innerHTML = '';\n",
              "        dataTable['output_type'] = 'display_data';\n",
              "        await google.colab.output.renderOutput(dataTable, element);\n",
              "        const docLink = document.createElement('div');\n",
              "        docLink.innerHTML = docLinkHtml;\n",
              "        element.appendChild(docLink);\n",
              "      }\n",
              "    </script>\n",
              "  </div>\n",
              "\n",
              "\n",
              "    </div>\n",
              "  </div>\n"
            ],
            "application/vnd.google.colaboratory.intrinsic+json": {
              "type": "dataframe",
              "variable_name": "train_data"
            }
          },
          "metadata": {},
          "execution_count": 53
        }
      ]
    },
    {
      "cell_type": "code",
      "source": [
        "# Convert 'APPLICATION LOGIN DATE' to datetime\n",
        "train_data['APPLICATION LOGIN DATE'] = pd.to_datetime(train_data['APPLICATION LOGIN DATE'], format='%m/%d/%y', errors='coerce')\n",
        "\n",
        "# Extract features from the 'APPLICATION LOGIN DATE'\n",
        "train_data['Month'] = train_data['APPLICATION LOGIN DATE'].dt.month\n",
        "train_data['Day'] = train_data['APPLICATION LOGIN DATE'].dt.day\n",
        "train_data['Year'] = train_data['APPLICATION LOGIN DATE'].dt.year\n",
        "\n",
        "# Drop the original 'APPLICATION LOGIN DATE' column\n",
        "train_data = train_data.drop('APPLICATION LOGIN DATE', axis=1)\n",
        "\n",
        "# Save the updated DataFrame to a new CSV file\n",
        "train_data.to_csv('Assignment_Train_Updated.csv', index=False)"
      ],
      "metadata": {
        "id": "lpWFY9GMHvpG"
      },
      "execution_count": 54,
      "outputs": []
    },
    {
      "cell_type": "code",
      "source": [
        "# Extract features and target variable\n",
        "X = train_data.drop(['Application Status', 'DEALER ID'], axis=1)\n",
        "Y = train_data['Application Status']\n"
      ],
      "metadata": {
        "id": "JBiDpRKPHWKL"
      },
      "execution_count": 55,
      "outputs": []
    },
    {
      "cell_type": "code",
      "source": [
        "# Convert categorical variables to numerical\n",
        "label_encoder = LabelEncoder()\n",
        "for col in X.select_dtypes(include=['object']).columns:\n",
        "    X[col] = label_encoder.fit_transform(X[col].astype(str))"
      ],
      "metadata": {
        "id": "jWT2Q8y6HokT"
      },
      "execution_count": 56,
      "outputs": []
    },
    {
      "cell_type": "code",
      "source": [
        "# Handle missing values\n",
        "imputer = SimpleImputer(strategy='most_frequent')\n",
        "\n",
        "# Exclude the datetime column from imputation\n",
        "X_no_date = X.select_dtypes(exclude=['datetime64'])\n",
        "X_no_date = imputer.fit_transform(X_no_date)\n",
        "\n",
        "# Convert the result back to DataFrame and re-insert the date column\n",
        "X = pd.DataFrame(X_no_date, columns=X.select_dtypes(exclude=['datetime64']).columns)"
      ],
      "metadata": {
        "id": "uOwgoxbOI4_f"
      },
      "execution_count": 57,
      "outputs": []
    },
    {
      "cell_type": "code",
      "source": [
        "# Standardize features\n",
        "scaler = StandardScaler()\n",
        "\n",
        "# Exclude the datetime column from scaling\n",
        "X_no_date = X.select_dtypes(exclude=['datetime64'])\n",
        "X_no_date = scaler.fit_transform(X_no_date)\n",
        "\n",
        "# Convert the result back to DataFrame and re-insert the date column\n",
        "X = pd.DataFrame(X_no_date, columns=X.select_dtypes(exclude=['datetime64']).columns)"
      ],
      "metadata": {
        "id": "wIyvanZMMW0N"
      },
      "execution_count": 58,
      "outputs": []
    },
    {
      "cell_type": "code",
      "source": [
        "# Split data for training and validation\n",
        "X_train, X_test, Y_train, Y_test = train_test_split(X, Y, test_size=0.2, random_state=2)"
      ],
      "metadata": {
        "id": "O5qYK9QdMapJ"
      },
      "execution_count": 59,
      "outputs": []
    },
    {
      "cell_type": "code",
      "source": [
        "X_train.shape"
      ],
      "metadata": {
        "colab": {
          "base_uri": "https://localhost:8080/"
        },
        "id": "LcUXlgN-Meu9",
        "outputId": "8580d835-0dce-4edc-edb3-d22a81bd2382"
      },
      "execution_count": 60,
      "outputs": [
        {
          "output_type": "execute_result",
          "data": {
            "text/plain": [
              "(8000, 55)"
            ]
          },
          "metadata": {},
          "execution_count": 60
        }
      ]
    },
    {
      "cell_type": "code",
      "source": [
        "model = RandomForestClassifier(random_state=2)\n",
        "model.fit(X_train, Y_train)"
      ],
      "metadata": {
        "colab": {
          "base_uri": "https://localhost:8080/",
          "height": 74
        },
        "id": "gORxGKuWzkBy",
        "outputId": "3e5da6a9-201c-4729-a9d5-3741aad21aef"
      },
      "execution_count": 61,
      "outputs": [
        {
          "output_type": "execute_result",
          "data": {
            "text/plain": [
              "RandomForestClassifier(random_state=2)"
            ],
            "text/html": [
              "<style>#sk-container-id-3 {color: black;}#sk-container-id-3 pre{padding: 0;}#sk-container-id-3 div.sk-toggleable {background-color: white;}#sk-container-id-3 label.sk-toggleable__label {cursor: pointer;display: block;width: 100%;margin-bottom: 0;padding: 0.3em;box-sizing: border-box;text-align: center;}#sk-container-id-3 label.sk-toggleable__label-arrow:before {content: \"▸\";float: left;margin-right: 0.25em;color: #696969;}#sk-container-id-3 label.sk-toggleable__label-arrow:hover:before {color: black;}#sk-container-id-3 div.sk-estimator:hover label.sk-toggleable__label-arrow:before {color: black;}#sk-container-id-3 div.sk-toggleable__content {max-height: 0;max-width: 0;overflow: hidden;text-align: left;background-color: #f0f8ff;}#sk-container-id-3 div.sk-toggleable__content pre {margin: 0.2em;color: black;border-radius: 0.25em;background-color: #f0f8ff;}#sk-container-id-3 input.sk-toggleable__control:checked~div.sk-toggleable__content {max-height: 200px;max-width: 100%;overflow: auto;}#sk-container-id-3 input.sk-toggleable__control:checked~label.sk-toggleable__label-arrow:before {content: \"▾\";}#sk-container-id-3 div.sk-estimator input.sk-toggleable__control:checked~label.sk-toggleable__label {background-color: #d4ebff;}#sk-container-id-3 div.sk-label input.sk-toggleable__control:checked~label.sk-toggleable__label {background-color: #d4ebff;}#sk-container-id-3 input.sk-hidden--visually {border: 0;clip: rect(1px 1px 1px 1px);clip: rect(1px, 1px, 1px, 1px);height: 1px;margin: -1px;overflow: hidden;padding: 0;position: absolute;width: 1px;}#sk-container-id-3 div.sk-estimator {font-family: monospace;background-color: #f0f8ff;border: 1px dotted black;border-radius: 0.25em;box-sizing: border-box;margin-bottom: 0.5em;}#sk-container-id-3 div.sk-estimator:hover {background-color: #d4ebff;}#sk-container-id-3 div.sk-parallel-item::after {content: \"\";width: 100%;border-bottom: 1px solid gray;flex-grow: 1;}#sk-container-id-3 div.sk-label:hover label.sk-toggleable__label {background-color: #d4ebff;}#sk-container-id-3 div.sk-serial::before {content: \"\";position: absolute;border-left: 1px solid gray;box-sizing: border-box;top: 0;bottom: 0;left: 50%;z-index: 0;}#sk-container-id-3 div.sk-serial {display: flex;flex-direction: column;align-items: center;background-color: white;padding-right: 0.2em;padding-left: 0.2em;position: relative;}#sk-container-id-3 div.sk-item {position: relative;z-index: 1;}#sk-container-id-3 div.sk-parallel {display: flex;align-items: stretch;justify-content: center;background-color: white;position: relative;}#sk-container-id-3 div.sk-item::before, #sk-container-id-3 div.sk-parallel-item::before {content: \"\";position: absolute;border-left: 1px solid gray;box-sizing: border-box;top: 0;bottom: 0;left: 50%;z-index: -1;}#sk-container-id-3 div.sk-parallel-item {display: flex;flex-direction: column;z-index: 1;position: relative;background-color: white;}#sk-container-id-3 div.sk-parallel-item:first-child::after {align-self: flex-end;width: 50%;}#sk-container-id-3 div.sk-parallel-item:last-child::after {align-self: flex-start;width: 50%;}#sk-container-id-3 div.sk-parallel-item:only-child::after {width: 0;}#sk-container-id-3 div.sk-dashed-wrapped {border: 1px dashed gray;margin: 0 0.4em 0.5em 0.4em;box-sizing: border-box;padding-bottom: 0.4em;background-color: white;}#sk-container-id-3 div.sk-label label {font-family: monospace;font-weight: bold;display: inline-block;line-height: 1.2em;}#sk-container-id-3 div.sk-label-container {text-align: center;}#sk-container-id-3 div.sk-container {/* jupyter's `normalize.less` sets `[hidden] { display: none; }` but bootstrap.min.css set `[hidden] { display: none !important; }` so we also need the `!important` here to be able to override the default hidden behavior on the sphinx rendered scikit-learn.org. See: https://github.com/scikit-learn/scikit-learn/issues/21755 */display: inline-block !important;position: relative;}#sk-container-id-3 div.sk-text-repr-fallback {display: none;}</style><div id=\"sk-container-id-3\" class=\"sk-top-container\"><div class=\"sk-text-repr-fallback\"><pre>RandomForestClassifier(random_state=2)</pre><b>In a Jupyter environment, please rerun this cell to show the HTML representation or trust the notebook. <br />On GitHub, the HTML representation is unable to render, please try loading this page with nbviewer.org.</b></div><div class=\"sk-container\" hidden><div class=\"sk-item\"><div class=\"sk-estimator sk-toggleable\"><input class=\"sk-toggleable__control sk-hidden--visually\" id=\"sk-estimator-id-3\" type=\"checkbox\" checked><label for=\"sk-estimator-id-3\" class=\"sk-toggleable__label sk-toggleable__label-arrow\">RandomForestClassifier</label><div class=\"sk-toggleable__content\"><pre>RandomForestClassifier(random_state=2)</pre></div></div></div></div></div>"
            ]
          },
          "metadata": {},
          "execution_count": 61
        }
      ]
    },
    {
      "cell_type": "code",
      "source": [
        "# Evaluate model\n",
        "Y_pred = model.predict(X_test)\n",
        "print('Accuracy:', accuracy_score(Y_test, Y_pred))\n",
        "print('Classification Report:\\n', classification_report(Y_test, Y_pred))"
      ],
      "metadata": {
        "colab": {
          "base_uri": "https://localhost:8080/"
        },
        "id": "3WybRqAb0LoH",
        "outputId": "837e21f4-b67e-4536-c6a4-affbd0a7d814"
      },
      "execution_count": 62,
      "outputs": [
        {
          "output_type": "stream",
          "name": "stdout",
          "text": [
            "Accuracy: 0.8945\n",
            "Classification Report:\n",
            "               precision    recall  f1-score   support\n",
            "\n",
            "    APPROVED       0.92      0.92      0.92      1305\n",
            "    DECLINED       0.85      0.84      0.85       695\n",
            "\n",
            "    accuracy                           0.89      2000\n",
            "   macro avg       0.88      0.88      0.88      2000\n",
            "weighted avg       0.89      0.89      0.89      2000\n",
            "\n"
          ]
        }
      ]
    },
    {
      "cell_type": "code",
      "source": [
        "# Prepare submission\n",
        "# Process the test data similarly\n",
        "X_test = test_data.drop('UID', axis=1)\n",
        "\n",
        "# Convert 'APPLICATION LOGIN DATE' to datetime\n",
        "X_test['APPLICATION LOGIN DATE'] = pd.to_datetime(X_test['APPLICATION LOGIN DATE'])\n",
        "# Extract date features\n",
        "X_test['Day'] = X_test['APPLICATION LOGIN DATE'].dt.day\n",
        "X_test['Month'] = X_test['APPLICATION LOGIN DATE'].dt.month\n",
        "X_test['Year'] = X_test['APPLICATION LOGIN DATE'].dt.year\n",
        "# Drop the original date column\n",
        "X_test = X_test.drop('APPLICATION LOGIN DATE', axis=1)\n",
        "\n",
        "for col in X_test.select_dtypes(include=['object']).columns:\n",
        "    # Check if the column exists in X_train before proceeding\n",
        "    if col in X_train.columns:\n",
        "        # Create a list of unique values seen in training and testing data\n",
        "        unique_vals = list(set(X_train[col].astype(str).unique()).union(set(X_test[col].astype(str).unique())))\n",
        "        # Fit the label encoder on these unique values\n",
        "        label_encoder.fit(unique_vals)\n",
        "        X_test[col] = label_encoder.transform(X_test[col].astype(str))\n",
        "\n",
        "# Ensure the columns in X_test are in the same order as X_train\n",
        "X_test = X_test[X_train.columns]\n",
        "\n",
        "X_test = imputer.transform(X_test)\n",
        "X_test = scaler.transform(X_test)"
      ],
      "metadata": {
        "id": "mivRAX68NDdz",
        "colab": {
          "base_uri": "https://localhost:8080/"
        },
        "outputId": "427b9bb4-7860-47a7-99ba-27c4d0ee59c3"
      },
      "execution_count": 63,
      "outputs": [
        {
          "output_type": "stream",
          "name": "stderr",
          "text": [
            "<ipython-input-63-a2e6cfbe901d>:6: UserWarning: Could not infer format, so each element will be parsed individually, falling back to `dateutil`. To ensure parsing is consistent and as-expected, please specify a format.\n",
            "  X_test['APPLICATION LOGIN DATE'] = pd.to_datetime(X_test['APPLICATION LOGIN DATE'])\n",
            "/usr/local/lib/python3.10/dist-packages/sklearn/base.py:465: UserWarning: X does not have valid feature names, but StandardScaler was fitted with feature names\n",
            "  warnings.warn(\n"
          ]
        }
      ]
    },
    {
      "cell_type": "code",
      "source": [
        "# Predict on test data\n",
        "test_predictions = model.predict(X_test)\n",
        "\n",
        "# Create submission DataFrame\n",
        "submission = pd.DataFrame({\n",
        "    'UID': test_data['UID'],\n",
        "    'Application Status': test_predictions\n",
        "})\n",
        "\n",
        "# Save submission\n",
        "submission.to_csv('predictions.csv', index=False)\n",
        "\n",
        "print(\"Submission file created.\")"
      ],
      "metadata": {
        "colab": {
          "base_uri": "https://localhost:8080/"
        },
        "id": "xYSoaGD4wo4l",
        "outputId": "96cc95e7-8e5e-4a2e-d38c-9e07ede53f50"
      },
      "execution_count": 64,
      "outputs": [
        {
          "output_type": "stream",
          "name": "stdout",
          "text": [
            "Submission file created.\n"
          ]
        },
        {
          "output_type": "stream",
          "name": "stderr",
          "text": [
            "/usr/local/lib/python3.10/dist-packages/sklearn/base.py:465: UserWarning: X does not have valid feature names, but RandomForestClassifier was fitted with feature names\n",
            "  warnings.warn(\n"
          ]
        }
      ]
    },
    {
      "cell_type": "code",
      "source": [],
      "metadata": {
        "id": "scC58hdd-uME"
      },
      "execution_count": null,
      "outputs": []
    }
  ]
}